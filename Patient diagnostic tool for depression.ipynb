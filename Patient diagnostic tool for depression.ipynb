{
 "cells": [
  {
   "cell_type": "markdown",
   "id": "1d6dd62a-9630-43ce-944e-410d050d02e6",
   "metadata": {},
   "source": [
    "# Problem Statement: Depression Diagnostic Support Tool\n",
    "Depression is a common but serious mental health condition that affects how individuals feel, think, and handle daily activities. Timely and accurate diagnosis is critical for effective treatment and improved patient outcomes. However, many healthcare settings face constraints such as limited time, understaffing, or lack of access to mental health specialists — which can delay diagnosis or result in oversight.\n",
    "\n",
    "The Depression Diagnostic Support Tool is an AI-driven system designed to assist medical practitioners in making quick, data-informed assessments of potential depressive disorders in patients. Using patient-reported responses and clinical indicators from the provided dataset, the tool will classify patients according to their likelihood of experiencing depression.\n",
    "\n",
    "This diagnostic aid aims to:\n",
    "\n",
    "Identify individuals at risk of depression based on behavioral, emotional, and physical health indicators.\n",
    "\n",
    "Offer a preliminary diagnostic flag to support early clinical intervention.\n",
    "\n",
    "Reduce diagnostic time for practitioners through an interpretable, efficient machine learning model.\n",
    "\n",
    "The ultimate goal is to support healthcare workers — especially in under-resourced settings — by providing an assistive tool that enhances clinical judgment, supports early mental health intervention, and improves patient care outcomes."
   ]
  },
  {
   "cell_type": "markdown",
   "id": "60259ed8-9d8b-416e-9789-87ff19e915c9",
   "metadata": {},
   "source": [
    "We are going to be dealing with text data and categorize whether a patient has depression or not. This is a classification problem.\n"
   ]
  },
  {
   "cell_type": "code",
   "execution_count": 89,
   "id": "3e3b4d2b-99af-437f-b97b-1b607d470f54",
   "metadata": {},
   "outputs": [],
   "source": [
    "# library imports\n",
    "\n",
    "import numpy as np\n",
    "import pandas as pd\n",
    "import matplotlib.pyplot as plt\n",
    "import seaborn as sns\n",
    "from sklearn.model_selection import train_test_split, GridSearchCV, RandomizedSearchCV, KFold\n",
    "from sklearn.preprocessing import LabelEncoder, StandardScaler\n",
    "from sklearn.metrics import accuracy_score, classification_report, confusion_matrix\n",
    "from sklearn.ensemble import RandomForestClassifier\n",
    "from sklearn.linear_model import LogisticRegression"
   ]
  },
  {
   "cell_type": "markdown",
   "id": "2cbbfd39-3726-4526-bbf4-ba7e50f4904f",
   "metadata": {},
   "source": [
    "### About dataset:\n",
    "\n",
    "This dataset contains survey responses from patients regarding various symptoms associated with depression.  \n",
    "\n",
    "Each patient answered 14 questions, and the responses are coded from 1 to 6 based on the frequency of experiencing each symptom.  \n",
    "\n",
    "Additionally, the dataset includes a column indicating the patient's overall depression status.  \n",
    "\n",
    "Number: Unique identifier for each patient.  \n",
    "\n",
    "Sleep: Frequency of sleep disturbances (1: Never, 2: Always, 3: Often, 4: Rarely, 5: Sometimes, 6: Not at all).  \n",
    "\n",
    "Appetite: Changes in appetite (1: Never, 2: Always, 3: Often, 4: Rarely, 5: Sometimes, 6: Not at all).  \n",
    " \n",
    "Interest: Loss of interest in activities (1: Never, 2: Always, 3: Often, 4: Rarely, 5: Sometimes, 6: Not at all).  \n",
    "\n",
    "Fatigue: Feelings of fatigue or low energy (1: Never, 2: Always, 3: Often, 4: Rarely, 5: Sometimes, 6: Not at all).  \n",
    "\n",
    "Worthlessness: Feelings of worthlessness or excessive guilt (1: Never, 2: Always, 3: Often, 4: Rarely, 5: Sometimes, 6: Not at all).  \n",
    "\n",
    "Concentration: Difficulty concentrating (1: Never, 2: Always, 3: Often, 4: Rarely, 5: Sometimes, 6: Not at all).  \n",
    "\n",
    "Agitation: Physical agitation (1: Never, 2: Always, 3: Often, 4: Rarely, 5: Sometimes, 6: Not at all).  \n",
    "\n",
    "Suicidal Ideation: Thoughts of self-harm or suicide (1: Never, 2: Always, 3: Often, 4: Rarely, 5: Sometimes, 6: Not at all).  \n",
    "\n",
    "Sleep Disturbance: Issues with sleeping (1: Never, 2: Always, 3: Often, 4: Rarely, 5: Sometimes, 6: Not at all).  \n",
    "\n",
    "Aggression: Feelings of aggression (1: Never, 2: Always, 3: Often, 4: Rarely, 5: Sometimes, 6: Not at all).  \n",
    "\n",
    "Panic Attacks: Experiencing panic attacks (1: Never, 2: Always, 3: Often, 4: Rarely, 5: Sometimes, 6: Not at all).  \n",
    "\n",
    "Hopelessness: Feelings of hopelessness (1: Never, 2: Always, 3: Often, 4: Rarely, 5: Sometimes, 6: Not at all).  \n",
    "\n",
    "Restlessness: Feelings of restlessness (1: Never, 2: Always, 3: Often, 4: Rarely, 5: Sometimes, 6: Not at all).  \n",
    "\n",
    "Low Energy: Lack of energy (1: Never, 2: Always, 3: Often, 4: Rarely, 5: Sometimes, 6: Not at all).  \n",
    "\n",
    "Depression State: Overall depression state (categorized as 'No depression', 'Mild', 'Moderate', 'Severe')\n"
   ]
  },
  {
   "cell_type": "code",
   "execution_count": 91,
   "id": "8b3f1908-949d-44c3-90f5-9ae306cd5508",
   "metadata": {},
   "outputs": [],
   "source": [
    "df = pd.read_csv(\"deepression.csv\")"
   ]
  },
  {
   "cell_type": "code",
   "execution_count": 58,
   "id": "550b8bf2-93e8-484e-aa37-3ede343ea8ac",
   "metadata": {},
   "outputs": [
    {
     "data": {
      "text/html": [
       "<div>\n",
       "<style scoped>\n",
       "    .dataframe tbody tr th:only-of-type {\n",
       "        vertical-align: middle;\n",
       "    }\n",
       "\n",
       "    .dataframe tbody tr th {\n",
       "        vertical-align: top;\n",
       "    }\n",
       "\n",
       "    .dataframe thead th {\n",
       "        text-align: right;\n",
       "    }\n",
       "</style>\n",
       "<table border=\"1\" class=\"dataframe\">\n",
       "  <thead>\n",
       "    <tr style=\"text-align: right;\">\n",
       "      <th></th>\n",
       "      <th>Number</th>\n",
       "      <th>Sleep</th>\n",
       "      <th>Appetite</th>\n",
       "      <th>Interest</th>\n",
       "      <th>Fatigue</th>\n",
       "      <th>Worthlessness</th>\n",
       "      <th>Concentration</th>\n",
       "      <th>Agitation</th>\n",
       "      <th>Suicidal Ideation</th>\n",
       "      <th>Sleep Disturbance</th>\n",
       "      <th>Aggression</th>\n",
       "      <th>Panic Attacks</th>\n",
       "      <th>Hopelessness</th>\n",
       "      <th>Restlessness</th>\n",
       "      <th>Low Energy</th>\n",
       "      <th>Depression State</th>\n",
       "    </tr>\n",
       "  </thead>\n",
       "  <tbody>\n",
       "    <tr>\n",
       "      <th>0</th>\n",
       "      <td>1</td>\n",
       "      <td>1.0</td>\n",
       "      <td>1.0</td>\n",
       "      <td>1.0</td>\n",
       "      <td>5.0</td>\n",
       "      <td>5.0</td>\n",
       "      <td>1.0</td>\n",
       "      <td>5.0</td>\n",
       "      <td>5.0</td>\n",
       "      <td>1.0</td>\n",
       "      <td>5.0</td>\n",
       "      <td>5.0</td>\n",
       "      <td>5.0</td>\n",
       "      <td>5.0</td>\n",
       "      <td>5.0</td>\n",
       "      <td>Mild</td>\n",
       "    </tr>\n",
       "    <tr>\n",
       "      <th>1</th>\n",
       "      <td>2</td>\n",
       "      <td>2.0</td>\n",
       "      <td>5.0</td>\n",
       "      <td>5.0</td>\n",
       "      <td>1.0</td>\n",
       "      <td>1.0</td>\n",
       "      <td>5.0</td>\n",
       "      <td>1.0</td>\n",
       "      <td>1.0</td>\n",
       "      <td>5.0</td>\n",
       "      <td>1.0</td>\n",
       "      <td>1.0</td>\n",
       "      <td>1.0</td>\n",
       "      <td>1.0</td>\n",
       "      <td>1.0</td>\n",
       "      <td>Moderate</td>\n",
       "    </tr>\n",
       "    <tr>\n",
       "      <th>2</th>\n",
       "      <td>3</td>\n",
       "      <td>5.0</td>\n",
       "      <td>2.0</td>\n",
       "      <td>2.0</td>\n",
       "      <td>2.0</td>\n",
       "      <td>2.0</td>\n",
       "      <td>2.0</td>\n",
       "      <td>2.0</td>\n",
       "      <td>2.0</td>\n",
       "      <td>2.0</td>\n",
       "      <td>2.0</td>\n",
       "      <td>2.0</td>\n",
       "      <td>2.0</td>\n",
       "      <td>2.0</td>\n",
       "      <td>2.0</td>\n",
       "      <td>Severe</td>\n",
       "    </tr>\n",
       "    <tr>\n",
       "      <th>3</th>\n",
       "      <td>4</td>\n",
       "      <td>1.0</td>\n",
       "      <td>1.0</td>\n",
       "      <td>1.0</td>\n",
       "      <td>5.0</td>\n",
       "      <td>5.0</td>\n",
       "      <td>1.0</td>\n",
       "      <td>5.0</td>\n",
       "      <td>5.0</td>\n",
       "      <td>1.0</td>\n",
       "      <td>5.0</td>\n",
       "      <td>5.0</td>\n",
       "      <td>5.0</td>\n",
       "      <td>5.0</td>\n",
       "      <td>5.0</td>\n",
       "      <td>No depression</td>\n",
       "    </tr>\n",
       "    <tr>\n",
       "      <th>4</th>\n",
       "      <td>5</td>\n",
       "      <td>2.0</td>\n",
       "      <td>5.0</td>\n",
       "      <td>5.0</td>\n",
       "      <td>1.0</td>\n",
       "      <td>1.0</td>\n",
       "      <td>5.0</td>\n",
       "      <td>1.0</td>\n",
       "      <td>1.0</td>\n",
       "      <td>5.0</td>\n",
       "      <td>1.0</td>\n",
       "      <td>1.0</td>\n",
       "      <td>1.0</td>\n",
       "      <td>1.0</td>\n",
       "      <td>1.0</td>\n",
       "      <td>Moderate</td>\n",
       "    </tr>\n",
       "  </tbody>\n",
       "</table>\n",
       "</div>"
      ],
      "text/plain": [
       "   Number   Sleep  Appetite  Interest  Fatigue  Worthlessness  Concentration  \\\n",
       "0        1    1.0       1.0       1.0      5.0            5.0            1.0   \n",
       "1        2    2.0       5.0       5.0      1.0            1.0            5.0   \n",
       "2        3    5.0       2.0       2.0      2.0            2.0            2.0   \n",
       "3        4    1.0       1.0       1.0      5.0            5.0            1.0   \n",
       "4        5    2.0       5.0       5.0      1.0            1.0            5.0   \n",
       "\n",
       "   Agitation  Suicidal Ideation  Sleep Disturbance  Aggression  Panic Attacks  \\\n",
       "0        5.0                5.0                1.0         5.0            5.0   \n",
       "1        1.0                1.0                5.0         1.0            1.0   \n",
       "2        2.0                2.0                2.0         2.0            2.0   \n",
       "3        5.0                5.0                1.0         5.0            5.0   \n",
       "4        1.0                1.0                5.0         1.0            1.0   \n",
       "\n",
       "   Hopelessness  Restlessness  Low Energy Depression State  \n",
       "0           5.0           5.0         5.0             Mild  \n",
       "1           1.0           1.0         1.0         Moderate  \n",
       "2           2.0           2.0         2.0           Severe  \n",
       "3           5.0           5.0         5.0    No depression  \n",
       "4           1.0           1.0         1.0         Moderate  "
      ]
     },
     "execution_count": 58,
     "metadata": {},
     "output_type": "execute_result"
    }
   ],
   "source": [
    "df.head()"
   ]
  },
  {
   "cell_type": "markdown",
   "id": "af84f7d7-2676-4241-a854-13fb0a87be2b",
   "metadata": {},
   "source": [
    "As we can see from the data that we have serveral depression states. No depression against mild, moderate and servere. so it is a multi-class classification that can be done by a way of Random forest. "
   ]
  },
  {
   "cell_type": "markdown",
   "id": "37f78665-cc95-4553-aa83-71544a910e03",
   "metadata": {},
   "source": [
    "### Cleaning the dataset"
   ]
  },
  {
   "cell_type": "code",
   "execution_count": 93,
   "id": "9a443e16-0db4-4e68-927a-c55fa0024b2e",
   "metadata": {},
   "outputs": [
    {
     "data": {
      "text/plain": [
       "array(['Mild', 'Moderate', 'Severe', 'No depression', '\\tModerate',\n",
       "       '\\tMild', '\\tNo depression', '\\tSevere', '2\\tNo depression',\n",
       "       '5\\tNo depression', nan], dtype=object)"
      ]
     },
     "execution_count": 93,
     "metadata": {},
     "output_type": "execute_result"
    }
   ],
   "source": [
    "# our target variable is Depression state, let us check how many unique of these we have\n",
    "\n",
    "df['Depression State'].unique()"
   ]
  },
  {
   "cell_type": "code",
   "execution_count": 95,
   "id": "c7cbe69a-4541-45bc-b1fc-ba83dd1dc338",
   "metadata": {},
   "outputs": [
    {
     "name": "stdout",
     "output_type": "stream",
     "text": [
      "['Mild' 'Moderate' 'Severe' 'No depression' '2\\tNo depression'\n",
      " '5\\tNo depression' nan]\n"
     ]
    }
   ],
   "source": [
    "## we need to trim the spaces to clean things up a bit\n",
    "\n",
    "df['Depression State'] = df['Depression State'].str.strip()\n",
    "print(df['Depression State'].unique())"
   ]
  },
  {
   "cell_type": "code",
   "execution_count": 97,
   "id": "1d0db204-2e74-4e04-bfa7-201ca6a93a0b",
   "metadata": {},
   "outputs": [
    {
     "name": "stdout",
     "output_type": "stream",
     "text": [
      "['Mild' 'Moderate' 'Severe' 'No depression' nan]\n"
     ]
    }
   ],
   "source": [
    "## remove leading numbers in the no depression values\n",
    "\n",
    "df.loc[df['Depression State'].isin(['2\\tNo depression', '5\\tNo depression']), 'Depression State'] = 'No depression'\n",
    "\n",
    "print(df['Depression State'].unique())"
   ]
  },
  {
   "cell_type": "code",
   "execution_count": 99,
   "id": "fc9865a9-f848-4efa-b21e-185d336c8cfd",
   "metadata": {},
   "outputs": [
    {
     "data": {
      "text/plain": [
       "(813, 16)"
      ]
     },
     "execution_count": 99,
     "metadata": {},
     "output_type": "execute_result"
    }
   ],
   "source": [
    "df.shape"
   ]
  },
  {
   "cell_type": "code",
   "execution_count": 101,
   "id": "389b227b-64ce-4819-8139-6acdc9a007ca",
   "metadata": {
    "scrolled": true
   },
   "outputs": [
    {
     "data": {
      "text/plain": [
       "Number                 0\n",
       "Sleep                273\n",
       "Appetite             273\n",
       "Interest             273\n",
       "Fatigue              273\n",
       "Worthlessness        273\n",
       "Concentration        273\n",
       "Agitation            273\n",
       "Suicidal Ideation    273\n",
       "Sleep Disturbance    273\n",
       "Aggression           273\n",
       "Panic Attacks        273\n",
       "Hopelessness         273\n",
       "Restlessness         273\n",
       "Low Energy           273\n",
       "Depression State     273\n",
       "dtype: int64"
      ]
     },
     "execution_count": 101,
     "metadata": {},
     "output_type": "execute_result"
    }
   ],
   "source": [
    "df.isnull().sum()"
   ]
  },
  {
   "cell_type": "markdown",
   "id": "7a4441ed-e1cd-4561-ac5c-64e4fabf94fa",
   "metadata": {},
   "source": [
    "Note: we have 273\n",
    "constitute to 33% of the data. going to impute next"
   ]
  },
  {
   "cell_type": "code",
   "execution_count": 103,
   "id": "959b3240-7932-4332-b6e0-d01166234288",
   "metadata": {},
   "outputs": [
    {
     "name": "stdout",
     "output_type": "stream",
     "text": [
      "Sleep                0\n",
      "Appetite             0\n",
      "Interest             0\n",
      "Fatigue              0\n",
      "Worthlessness        0\n",
      "Concentration        0\n",
      "Agitation            0\n",
      "Suicidal Ideation    0\n",
      "Sleep Disturbance    0\n",
      "Aggression           0\n",
      "Panic Attacks        0\n",
      "Hopelessness         0\n",
      "Restlessness         0\n",
      "Low Energy           0\n",
      "dtype: int64\n",
      "0\n"
     ]
    }
   ],
   "source": [
    "from sklearn.impute import SimpleImputer\n",
    "\n",
    "# List of features with missing values\n",
    "feature_cols = ['Sleep', 'Appetite', 'Interest', 'Fatigue', 'Worthlessness',\n",
    "                'Concentration', 'Agitation', 'Suicidal Ideation', 'Sleep Disturbance',\n",
    "                'Aggression', 'Panic Attacks', 'Hopelessness', 'Restlessness', 'Low Energy']\n",
    "\n",
    "# Drop rows where target is missing\n",
    "df = df.dropna(subset=['Depression State'])\n",
    "\n",
    "# Imputer for features - median strategy\n",
    "imputer = SimpleImputer(strategy='median')\n",
    "\n",
    "# Fit imputer and transform features\n",
    "df[feature_cols] = imputer.fit_transform(df[feature_cols])\n",
    "\n",
    "# Check no more nulls in features or target\n",
    "print(df[feature_cols].isnull().sum())\n",
    "print(df['Depression State'].isnull().sum())\n",
    "\n"
   ]
  },
  {
   "cell_type": "code",
   "execution_count": 105,
   "id": "0b165fce-a94d-4646-80a2-642939b148dd",
   "metadata": {},
   "outputs": [
    {
     "data": {
      "text/plain": [
       "(540, 16)"
      ]
     },
     "execution_count": 105,
     "metadata": {},
     "output_type": "execute_result"
    }
   ],
   "source": [
    "df.shape"
   ]
  },
  {
   "cell_type": "code",
   "execution_count": 69,
   "id": "24d0ca62-b537-4b1f-942e-a08bdc741664",
   "metadata": {},
   "outputs": [
    {
     "name": "stdout",
     "output_type": "stream",
     "text": [
      "0\n"
     ]
    }
   ],
   "source": [
    "print(df.duplicated().sum())"
   ]
  },
  {
   "cell_type": "code",
   "execution_count": 70,
   "id": "c523c326-a855-4822-844f-f4ff68fb0144",
   "metadata": {},
   "outputs": [],
   "source": [
    "mapping = {\n",
    "    1: 0,  # Never\n",
    "    6: 0,  # Not at all\n",
    "    4: 1,  # Rarely\n",
    "    5: 2,  # Sometimes\n",
    "    3: 3,  # Often\n",
    "    2: 4   # Always\n",
    "}\n",
    "\n",
    "for col in feature_cols:\n",
    "    df[col] = df[col].map(mapping)\n"
   ]
  },
  {
   "cell_type": "markdown",
   "id": "b5d3a93b-85e3-46e3-aa1a-db44d9b7a777",
   "metadata": {},
   "source": [
    "the new mapping above maps according to severerity of the option occurence. from never to always"
   ]
  },
  {
   "cell_type": "code",
   "execution_count": null,
   "id": "0edfb944-7bb5-42b8-ae8f-0fc6b756bddb",
   "metadata": {},
   "outputs": [],
   "source": []
  },
  {
   "cell_type": "markdown",
   "id": "7212f504-07ce-4d90-a46c-5ee0e8396fcb",
   "metadata": {},
   "source": [
    "### Train, validation, test"
   ]
  },
  {
   "cell_type": "code",
   "execution_count": 108,
   "id": "bf3bdef3-dc78-4a12-bab5-f2be2a597d21",
   "metadata": {},
   "outputs": [],
   "source": [
    "X, y = df.loc[ : , (df.columns != 'Depression State')],df['Depression State']\n",
    "\n",
    "X_train, X_test, y_train, y_test = train_test_split(X,y, test_size = 0.2, random_state = 42)\n",
    "X_train, X_val, y_train, y_val = train_test_split(X_train, y_train, test_size = 0.25, random_state = 42)\n"
   ]
  },
  {
   "cell_type": "code",
   "execution_count": 110,
   "id": "aa7f4b6d-9894-4378-a737-80dc4c3fd599",
   "metadata": {},
   "outputs": [],
   "source": [
    "## convert our depression states (target variable) into numbers (variable encoding)\n",
    "\n",
    "label_encoder = LabelEncoder()\n",
    "y_train = label_encoder.fit_transform(y_train)\n",
    "\n",
    "# Use the same encoder to transform y_val and y_test\n",
    "# This ensures consistent mapping (e.g., 'Mild' = 0, 'Moderate' = 1, etc.)\n",
    "y_val = label_encoder.transform(y_val)\n",
    "y_test = label_encoder.transform(y_test)"
   ]
  },
  {
   "cell_type": "code",
   "execution_count": 112,
   "id": "67de5d7b-04e5-4b9f-895d-b9ab103456cc",
   "metadata": {},
   "outputs": [
    {
     "name": "stdout",
     "output_type": "stream",
     "text": [
      "['Mild' 'Moderate' 'No depression' 'Severe']\n"
     ]
    }
   ],
   "source": [
    "print(label_encoder.classes_)\n"
   ]
  },
  {
   "cell_type": "code",
   "execution_count": 114,
   "id": "c73e6318-c24c-4eb8-abfa-513124dae39b",
   "metadata": {},
   "outputs": [],
   "source": [
    "# Standardize the feature variables to have zero mean and unit variance.\n",
    "# This is crucial for many ML algorithms that are sensitive to the scale of input features\n",
    "# (e.g., Logistic Regression, SVM, KNN, Neural Networks).\n",
    "# We fit the scaler only on the training data to avoid data leakage,\n",
    "# then apply the same transformation to validation and test sets.\n",
    "\n",
    "scaler = StandardScaler()\n",
    "X_train = scaler.fit_transform(X_train)\n",
    "X_val = scaler.transform(X_val)\n",
    "X_test = scaler.transform(X_test)"
   ]
  },
  {
   "cell_type": "code",
   "execution_count": 116,
   "id": "ed932dbf-bc3a-4a8c-b64a-6b30371f5c35",
   "metadata": {},
   "outputs": [
    {
     "name": "stdout",
     "output_type": "stream",
     "text": [
      "Test Accuracy:  0.333333\n",
      "\n",
      "Classification Report:\n",
      ":               precision    recall  f1-score   support\n",
      "\n",
      "           0       0.37      0.38      0.37        29\n",
      "           1       0.23      0.33      0.27        21\n",
      "           2       0.42      0.29      0.34        38\n",
      "           3       0.32      0.35      0.33        20\n",
      "\n",
      "    accuracy                           0.33       108\n",
      "   macro avg       0.34      0.34      0.33       108\n",
      "weighted avg       0.35      0.33      0.34       108\n",
      "\n",
      "\n",
      "Confusion Matrix: \n",
      " [[11  7  5  6]\n",
      " [ 5  7  6  3]\n",
      " [10 11 11  6]\n",
      " [ 4  5  4  7]]\n"
     ]
    }
   ],
   "source": [
    "rf_model = RandomForestClassifier(random_state=42)\n",
    "\n",
    "rf_model.fit(X_train, y_train)\n",
    "\n",
    "y_pred = rf_model.predict(X_val)\n",
    "\n",
    "test_accuracy= accuracy_score(y_val, y_pred)\n",
    "print(f'Test Accuracy: {test_accuracy: 4f}')\n",
    "\n",
    "print(\"\\nClassification Report:\\n:\", classification_report(y_val, y_pred))\n",
    "print(\"\\nConfusion Matrix: \\n\", confusion_matrix(y_val, y_pred))"
   ]
  },
  {
   "cell_type": "code",
   "execution_count": 118,
   "id": "27a7e85d-2ce2-4b2a-babe-23234e5c25c6",
   "metadata": {},
   "outputs": [
    {
     "name": "stdout",
     "output_type": "stream",
     "text": [
      "Validation Accuracy: 0.37037037037037035\n",
      "\n",
      "Confusion Matrix:\n",
      " [[11  5 10  3]\n",
      " [ 0 10 10  1]\n",
      " [ 3 13 18  4]\n",
      " [ 6  6  7  1]]\n",
      "\n",
      "Classification Report:\n",
      "               precision    recall  f1-score   support\n",
      "\n",
      "           0       0.55      0.38      0.45        29\n",
      "           1       0.29      0.48      0.36        21\n",
      "           2       0.40      0.47      0.43        38\n",
      "           3       0.11      0.05      0.07        20\n",
      "\n",
      "    accuracy                           0.37       108\n",
      "   macro avg       0.34      0.34      0.33       108\n",
      "weighted avg       0.37      0.37      0.36       108\n",
      "\n",
      "\n",
      "Test Accuracy: 0.35185185185185186\n"
     ]
    }
   ],
   "source": [
    "## rf model underfitting, vibe coding the more models to see what works\n",
    "\n",
    "log_reg = LogisticRegression(max_iter=1000, random_state=42)\n",
    "log_reg.fit(X_train, y_train)\n",
    "\n",
    "# Make predictions on validation data\n",
    "y_val_pred = log_reg.predict(X_val)\n",
    "\n",
    "#  Evaluate the model\n",
    "print(\"Validation Accuracy:\", accuracy_score(y_val, y_val_pred))\n",
    "print(\"\\nConfusion Matrix:\\n\", confusion_matrix(y_val, y_val_pred))\n",
    "print(\"\\nClassification Report:\\n\", classification_report(y_val, y_val_pred))\n",
    "\n",
    "#  (Optional) Predict on test data\n",
    "y_test_pred = log_reg.predict(X_test)\n",
    "print(\"\\nTest Accuracy:\", accuracy_score(y_test, y_test_pred))"
   ]
  },
  {
   "cell_type": "code",
   "execution_count": 120,
   "id": "badad4a8-a8bd-492d-adac-05b2c4946f70",
   "metadata": {},
   "outputs": [
    {
     "name": "stdout",
     "output_type": "stream",
     "text": [
      "Validation Accuracy: 0.4074074074074074\n",
      "\n",
      "Confusion Matrix:\n",
      " [[ 9  5  9  6]\n",
      " [ 0 11  4  6]\n",
      " [ 1 17 14  6]\n",
      " [ 0  6  4 10]]\n",
      "\n",
      "Classification Report:\n",
      "               precision    recall  f1-score   support\n",
      "\n",
      "           0       0.90      0.31      0.46        29\n",
      "           1       0.28      0.52      0.37        21\n",
      "           2       0.45      0.37      0.41        38\n",
      "           3       0.36      0.50      0.42        20\n",
      "\n",
      "    accuracy                           0.41       108\n",
      "   macro avg       0.50      0.43      0.41       108\n",
      "weighted avg       0.52      0.41      0.42       108\n",
      "\n",
      "\n",
      "Test Accuracy: 0.46296296296296297\n"
     ]
    }
   ],
   "source": [
    "from sklearn.preprocessing import PolynomialFeatures\n",
    "from sklearn.linear_model import LogisticRegression\n",
    "\n",
    "# Generate polynomial features (adds interaction terms and nonlinear features)\n",
    "poly = PolynomialFeatures(degree=2, include_bias=False)\n",
    "X_train_poly = poly.fit_transform(X_train)\n",
    "X_val_poly = poly.transform(X_val)\n",
    "X_test_poly = poly.transform(X_test)\n",
    "\n",
    "# Logistic regression with less regularization (C=10)\n",
    "log_reg_poly = LogisticRegression(C=10.0, max_iter=1000, random_state=42)\n",
    "log_reg_poly.fit(X_train_poly, y_train)\n",
    "\n",
    "# Predict on validation set\n",
    "y_val_pred_poly = log_reg_poly.predict(X_val_poly)\n",
    "\n",
    "# Evaluate\n",
    "print(\"Validation Accuracy:\", accuracy_score(y_val, y_val_pred_poly))\n",
    "print(\"\\nConfusion Matrix:\\n\", confusion_matrix(y_val, y_val_pred_poly))\n",
    "print(\"\\nClassification Report:\\n\", classification_report(y_val, y_val_pred_poly))\n",
    "\n",
    "# Predict on test set\n",
    "y_test_pred_poly = log_reg_poly.predict(X_test_poly)\n",
    "print(\"\\nTest Accuracy:\", accuracy_score(y_test, y_test_pred_poly))\n",
    "\n",
    "\n"
   ]
  },
  {
   "cell_type": "code",
   "execution_count": 79,
   "id": "b4d0ce3f-589c-431f-b88b-72bc5032eef8",
   "metadata": {},
   "outputs": [
    {
     "name": "stderr",
     "output_type": "stream",
     "text": [
      "C:\\Users\\idani\\anaconda3\\Lib\\site-packages\\xgboost\\training.py:183: UserWarning: [18:32:11] WARNING: C:\\actions-runner\\_work\\xgboost\\xgboost\\src\\learner.cc:738: \n",
      "Parameters: { \"use_label_encoder\" } are not used.\n",
      "\n",
      "  bst.update(dtrain, iteration=i, fobj=obj)\n"
     ]
    },
    {
     "name": "stdout",
     "output_type": "stream",
     "text": [
      "Validation Accuracy: 0.26851851851851855\n",
      "\n",
      "Confusion Matrix:\n",
      " [[ 9  8  9  3]\n",
      " [ 7  5  6  3]\n",
      " [12 11  8  7]\n",
      " [ 3  6  4  7]]\n",
      "\n",
      "Classification Report:\n",
      "               precision    recall  f1-score   support\n",
      "\n",
      "           0       0.29      0.31      0.30        29\n",
      "           1       0.17      0.24      0.20        21\n",
      "           2       0.30      0.21      0.25        38\n",
      "           3       0.35      0.35      0.35        20\n",
      "\n",
      "    accuracy                           0.27       108\n",
      "   macro avg       0.28      0.28      0.27       108\n",
      "weighted avg       0.28      0.27      0.27       108\n",
      "\n",
      "\n",
      "Test Accuracy: 0.3055555555555556\n"
     ]
    }
   ],
   "source": [
    "import xgboost as xgb\n",
    "from xgboost import XGBClassifier\n",
    "\n",
    "# Initialize the model\n",
    "xgb_model = XGBClassifier(\n",
    "    n_estimators=100,\n",
    "    learning_rate=0.1,\n",
    "    max_depth=5,\n",
    "    subsample=0.8,\n",
    "    colsample_bytree=0.8,\n",
    "    use_label_encoder=False,\n",
    "    eval_metric='mlogloss',\n",
    "    random_state=42\n",
    ")\n",
    "\n",
    "# Fit the model\n",
    "xgb_model.fit(X_train, y_train)\n",
    "\n",
    "# Predict on validation set\n",
    "y_val_pred = xgb_model.predict(X_val)\n",
    "\n",
    "# Evaluate\n",
    "print(\"Validation Accuracy:\", accuracy_score(y_val, y_val_pred))\n",
    "print(\"\\nConfusion Matrix:\\n\", confusion_matrix(y_val, y_val_pred))\n",
    "print(\"\\nClassification Report:\\n\", classification_report(y_val, y_val_pred))\n",
    "\n",
    "# Predict on test set\n",
    "y_test_pred = xgb_model.predict(X_test)\n",
    "print(\"\\nTest Accuracy:\", accuracy_score(y_test, y_test_pred))\n"
   ]
  },
  {
   "cell_type": "code",
   "execution_count": 122,
   "id": "24cc2fca-3227-4989-a56a-ee96917815da",
   "metadata": {},
   "outputs": [
    {
     "name": "stdout",
     "output_type": "stream",
     "text": [
      "Fitting 3 folds for each of 20 candidates, totalling 60 fits\n"
     ]
    },
    {
     "name": "stderr",
     "output_type": "stream",
     "text": [
      "C:\\Users\\idani\\anaconda3\\Lib\\site-packages\\xgboost\\training.py:183: UserWarning: [17:58:43] WARNING: C:\\actions-runner\\_work\\xgboost\\xgboost\\src\\learner.cc:738: \n",
      "Parameters: { \"use_label_encoder\" } are not used.\n",
      "\n",
      "  bst.update(dtrain, iteration=i, fobj=obj)\n"
     ]
    },
    {
     "name": "stdout",
     "output_type": "stream",
     "text": [
      "Best Parameters: {'subsample': 0.8, 'reg_lambda': 1, 'reg_alpha': 0.5, 'n_estimators': 200, 'max_depth': 3, 'learning_rate': 0.01, 'gamma': 1, 'colsample_bytree': 1.0}\n",
      "Validation Accuracy: 0.4722222222222222\n",
      "\n",
      "Confusion Matrix:\n",
      " [[ 9  3 13  4]\n",
      " [ 0  8  7  6]\n",
      " [ 0  8 25  5]\n",
      " [ 0  4  7  9]]\n",
      "\n",
      "Classification Report:\n",
      "               precision    recall  f1-score   support\n",
      "\n",
      "           0       1.00      0.31      0.47        29\n",
      "           1       0.35      0.38      0.36        21\n",
      "           2       0.48      0.66      0.56        38\n",
      "           3       0.38      0.45      0.41        20\n",
      "\n",
      "    accuracy                           0.47       108\n",
      "   macro avg       0.55      0.45      0.45       108\n",
      "weighted avg       0.57      0.47      0.47       108\n",
      "\n"
     ]
    }
   ],
   "source": [
    "from sklearn.model_selection import RandomizedSearchCV\n",
    "from xgboost import XGBClassifier\n",
    "import xgboost as xgb\n",
    "\n",
    "# Define the parameter grid\n",
    "param_grid = {\n",
    "    'n_estimators': [100, 200, 300],\n",
    "    'learning_rate': [0.01, 0.05, 0.1, 0.2],\n",
    "    'max_depth': [3, 5, 7, 10],\n",
    "    'subsample': [0.6, 0.8, 1.0],\n",
    "    'colsample_bytree': [0.6, 0.8, 1.0],\n",
    "    'gamma': [0, 1, 5],\n",
    "    'reg_alpha': [0, 0.1, 0.5],\n",
    "    'reg_lambda': [1, 1.5, 2]\n",
    "}\n",
    "\n",
    "# Initialize base model\n",
    "xgb_model = XGBClassifier(\n",
    "    use_label_encoder=False,\n",
    "    eval_metric='mlogloss',\n",
    "    random_state=42\n",
    ")\n",
    "\n",
    "# RandomizedSearchCV\n",
    "random_search = RandomizedSearchCV(\n",
    "    estimator=xgb_model,\n",
    "    param_distributions=param_grid,\n",
    "    n_iter=20,  # Number of random combinations to try\n",
    "    cv=3,\n",
    "    verbose=2,\n",
    "    n_jobs=-1,\n",
    "    scoring='accuracy'\n",
    ")\n",
    "\n",
    "# Fit search\n",
    "random_search.fit(X_train, y_train)\n",
    "\n",
    "# Best model from search\n",
    "best_xgb = random_search.best_estimator_\n",
    "\n",
    "# Predict and evaluate\n",
    "y_val_pred = best_xgb.predict(X_val)\n",
    "\n",
    "print(\"Best Parameters:\", random_search.best_params_)\n",
    "print(\"Validation Accuracy:\", accuracy_score(y_val, y_val_pred))\n",
    "print(\"\\nConfusion Matrix:\\n\", confusion_matrix(y_val, y_val_pred))\n",
    "print(\"\\nClassification Report:\\n\", classification_report(y_val, y_val_pred))\n"
   ]
  },
  {
   "cell_type": "code",
   "execution_count": 124,
   "id": "94f341df-253a-45b1-85b3-627efdb43969",
   "metadata": {},
   "outputs": [
    {
     "name": "stdout",
     "output_type": "stream",
     "text": [
      "Top 7 Features: ['feature_6', 'feature_4', 'feature_14', 'feature_3', 'feature_8', 'feature_5', 'feature_7']\n"
     ]
    }
   ],
   "source": [
    "import numpy as np\n",
    "\n",
    "# Get feature importances and feature names\n",
    "importances = best_xgb.feature_importances_\n",
    "\n",
    "# If you still have the original DataFrame columns\n",
    "feature_names = X_train.columns if hasattr(X_train, 'columns') else [f'feature_{i}' for i in range(X_train.shape[1])]\n",
    "\n",
    "# Sort and select top 7 features\n",
    "indices = np.argsort(importances)[::-1]\n",
    "top_features = [feature_names[i] for i in indices[:7]]\n",
    "\n",
    "print(\"Top 7 Features:\", top_features)\n"
   ]
  },
  {
   "cell_type": "code",
   "execution_count": 126,
   "id": "ec654e44-2303-466b-96cb-ef1e79664838",
   "metadata": {},
   "outputs": [
    {
     "name": "stdout",
     "output_type": "stream",
     "text": [
      "[0]\ttrain-mlogloss:1.23500\teval-mlogloss:1.31326\n",
      "[1]\ttrain-mlogloss:1.14008\teval-mlogloss:1.28169\n",
      "[2]\ttrain-mlogloss:1.07059\teval-mlogloss:1.27470\n",
      "[3]\ttrain-mlogloss:1.01663\teval-mlogloss:1.28015\n",
      "[4]\ttrain-mlogloss:0.97433\teval-mlogloss:1.28626\n",
      "[5]\ttrain-mlogloss:0.93949\teval-mlogloss:1.30094\n",
      "[6]\ttrain-mlogloss:0.91452\teval-mlogloss:1.31856\n",
      "[7]\ttrain-mlogloss:0.88834\teval-mlogloss:1.32122\n",
      "[8]\ttrain-mlogloss:0.86593\teval-mlogloss:1.33816\n",
      "[9]\ttrain-mlogloss:0.84462\teval-mlogloss:1.35782\n",
      "[10]\ttrain-mlogloss:0.82330\teval-mlogloss:1.36856\n",
      "[11]\ttrain-mlogloss:0.80612\teval-mlogloss:1.39477\n"
     ]
    }
   ],
   "source": [
    "import numpy as np\n",
    "import pandas as pd\n",
    "import xgboost as xgb\n",
    "from sklearn.metrics import accuracy_score\n",
    "\n",
    "# Your original datasets: X_train, X_val, X_test, y_train, y_val, y_test\n",
    "\n",
    "top_features = ['feature_6', 'feature_4', 'feature_14', 'feature_8', 'feature_1', 'feature_0', 'feature_5']\n",
    "\n",
    "# Convert to DataFrames with column names if necessary\n",
    "if not hasattr(X_train, 'columns'):\n",
    "    feature_names = [f'feature_{i}' for i in range(X_train.shape[1])]\n",
    "    X_train = pd.DataFrame(X_train, columns=feature_names)\n",
    "    X_val = pd.DataFrame(X_val, columns=feature_names)\n",
    "    X_test = pd.DataFrame(X_test, columns=feature_names)\n",
    "\n",
    "# Select top features\n",
    "X_train_top = X_train[top_features]\n",
    "X_val_top = X_val[top_features]\n",
    "X_test_top = X_test[top_features]\n",
    "\n",
    "number_of_classes = len(np.unique(y_train))\n",
    "\n",
    "# Create DMatrices for XGBoost\n",
    "dtrain = xgb.DMatrix(X_train_top, label=y_train)\n",
    "dval = xgb.DMatrix(X_val_top, label=y_val)\n",
    "dtest = xgb.DMatrix(X_test_top, label=y_test)\n",
    "\n",
    "# Set parameters\n",
    "params = {\n",
    "    'objective': 'multi:softprob',\n",
    "    'num_class': number_of_classes,\n",
    "    'eval_metric': 'mlogloss',\n",
    "    'seed': 42\n",
    "}\n",
    "\n",
    "evals = [(dtrain, 'train'), (dval, 'eval')]\n",
    "\n",
    "# Train with early stopping\n",
    "model = xgb.train(\n",
    "    params,\n",
    "    dtrain,\n",
    "    num_boost_round=100,\n",
    "    early_stopping_rounds=10,\n",
    "    evals=evals,\n",
    "    verbose_eval=True\n",
    ")\n",
    "\n",
    "\n"
   ]
  },
  {
   "cell_type": "code",
   "execution_count": 83,
   "id": "6600f749-f309-49fc-afc5-e978876209c9",
   "metadata": {},
   "outputs": [
    {
     "name": "stdout",
     "output_type": "stream",
     "text": [
      "Validation Accuracy with top 7 features: 0.3333\n",
      "Test Accuracy with top 7 features: 0.3426\n"
     ]
    }
   ],
   "source": [
    "y_val_pred_proba = model.predict(dval, iteration_range=(0, model.best_iteration + 1))\n",
    "y_val_pred = y_val_pred_proba.argmax(axis=1)\n",
    "val_accuracy = accuracy_score(y_val, y_val_pred)\n",
    "print(f\"Validation Accuracy with top 7 features: {val_accuracy:.4f}\")\n",
    "\n",
    "y_test_pred_proba = model.predict(dtest, iteration_range=(0, model.best_iteration + 1))\n",
    "y_test_pred = y_test_pred_proba.argmax(axis=1)\n",
    "test_accuracy = accuracy_score(y_test, y_test_pred)\n",
    "print(f\"Test Accuracy with top 7 features: {test_accuracy:.4f}\")\n",
    "\n",
    "\n"
   ]
  },
  {
   "cell_type": "code",
   "execution_count": null,
   "id": "9dbbd353-8415-4f02-a60c-1e563f02b092",
   "metadata": {},
   "outputs": [],
   "source": [
    "\n",
    "\n"
   ]
  },
  {
   "cell_type": "code",
   "execution_count": 128,
   "id": "55220c87-a556-49dd-be06-df1be381d240",
   "metadata": {},
   "outputs": [
    {
     "name": "stdout",
     "output_type": "stream",
     "text": [
      "Validation Accuracy: 0.4259\n",
      "\n",
      "Classification Report:\n",
      "               precision    recall  f1-score   support\n",
      "\n",
      "           0       1.00      0.28      0.43        29\n",
      "           1       0.29      0.48      0.36        21\n",
      "           2       0.49      0.47      0.48        38\n",
      "           3       0.36      0.50      0.42        20\n",
      "\n",
      "    accuracy                           0.43       108\n",
      "   macro avg       0.53      0.43      0.42       108\n",
      "weighted avg       0.56      0.43      0.43       108\n",
      "\n",
      "\n",
      "Confusion Matrix:\n",
      " [[ 8  5 10  6]\n",
      " [ 0 10  5  6]\n",
      " [ 0 14 18  6]\n",
      " [ 0  6  4 10]]\n"
     ]
    }
   ],
   "source": [
    "from sklearn.svm import SVC\n",
    "from sklearn.metrics import accuracy_score, classification_report, confusion_matrix\n",
    "\n",
    "# Initialize the SVM model\n",
    "svm_model = SVC(kernel='rbf', random_state=42)\n",
    "\n",
    "# Train on training data\n",
    "svm_model.fit(X_train, y_train)\n",
    "\n",
    "# Predict on validation set\n",
    "y_pred_svm = svm_model.predict(X_val)\n",
    "\n",
    "# Evaluate performance\n",
    "val_accuracy = accuracy_score(y_val, y_pred_svm)\n",
    "print(f\"Validation Accuracy: {val_accuracy:.4f}\")\n",
    "\n",
    "print(\"\\nClassification Report:\\n\", classification_report(y_val, y_pred_svm))\n",
    "print(\"\\nConfusion Matrix:\\n\", confusion_matrix(y_val, y_pred_svm))\n"
   ]
  },
  {
   "cell_type": "markdown",
   "id": "279ef362-3637-48c5-be11-5de9d67de7c2",
   "metadata": {},
   "source": [
    "So we have a multi-class problem and small dataset. this might have lead to our data underfitting. what we are going to try next is to collapse our classes to binary"
   ]
  },
  {
   "cell_type": "code",
   "execution_count": 130,
   "id": "6c453d21-b0b0-4b3c-b7a5-0b72b3a2170f",
   "metadata": {},
   "outputs": [
    {
     "name": "stdout",
     "output_type": "stream",
     "text": [
      "Binary_State\n",
      "Depressed        366\n",
      "Not Depressed    174\n",
      "Name: count, dtype: int64\n"
     ]
    }
   ],
   "source": [
    "# Define a binary version of the Depression State\n",
    "df['Binary_State'] = df['Depression State'].apply(lambda x: 'Not Depressed' if x == 'No depression' else 'Depressed')\n",
    "\n",
    "# Check distribution\n",
    "print(df['Binary_State'].value_counts())\n"
   ]
  },
  {
   "cell_type": "markdown",
   "id": "7c43b9e6-6387-4848-aa9c-b7c074adeb58",
   "metadata": {},
   "source": [
    "the distribution in our dataset is It’s moderately imbalanced.\n",
    "\n",
    "Many models (especially Logistic Regression, SVM, etc.) may favor the majority class, leading to lower recall or precision for the minority class.\n",
    "\n",
    "our model might predict “Depressed” most of the time, even when “Not Depressed” is true, just to maximize accuracy."
   ]
  },
  {
   "cell_type": "code",
   "execution_count": 134,
   "id": "9e6331f7-1398-47a9-8fcc-2e5f5c8074a8",
   "metadata": {},
   "outputs": [
    {
     "name": "stdout",
     "output_type": "stream",
     "text": [
      "Validation Accuracy: 0.7093023255813954\n",
      "\n",
      "Confusion Matrix:\n",
      " [[ 6 22]\n",
      " [ 3 55]]\n",
      "\n",
      "Classification Report:\n",
      "               precision    recall  f1-score   support\n",
      "\n",
      "           0       0.67      0.21      0.32        28\n",
      "           1       0.71      0.95      0.81        58\n",
      "\n",
      "    accuracy                           0.71        86\n",
      "   macro avg       0.69      0.58      0.57        86\n",
      "weighted avg       0.70      0.71      0.66        86\n",
      "\n",
      "ROC AUC Score: 0.707820197044335\n"
     ]
    },
    {
     "data": {
      "image/png": "[encoded data removed]",
      "text/plain": [
       "<Figure size 600x400 with 1 Axes>"
      ]
     },
     "metadata": {},
     "output_type": "display_data"
    }
   ],
   "source": [
    "from sklearn.metrics import roc_auc_score, roc_curve\n",
    "\n",
    "\n",
    "# STEP 1: Select features and define binary target\n",
    "feature_columns = [\n",
    "    'Sleep', 'Appetite', 'Interest', 'Fatigue', 'Worthlessness',\n",
    "    'Concentration', 'Agitation', 'Suicidal Ideation', 'Sleep Disturbance',\n",
    "    'Aggression', 'Panic Attacks', 'Hopelessness', 'Restlessness', 'Low Energy'\n",
    "]\n",
    "\n",
    "# Create binary label: 1 = Depressed, 0 = Not Depressed\n",
    "df['Binary_State'] = df['Depression State'].apply(lambda x: 0 if x == 'No depression' else 1)\n",
    "\n",
    "X = df[feature_columns]\n",
    "y = df['Binary_State']\n",
    "\n",
    "# STEP 2: Train/Val/Test split\n",
    "X_train, X_temp, y_train, y_temp = train_test_split(\n",
    "    X, y, test_size=0.2, stratify=y, random_state=42\n",
    ")\n",
    "X_val, X_test, y_val, y_test = train_test_split(\n",
    "    X_temp, y_temp, test_size=0.2, stratify=y_temp, random_state=42\n",
    ")\n",
    "\n",
    "# STEP 3: Scale features\n",
    "scaler = StandardScaler()\n",
    "X_train = scaler.fit_transform(X_train)\n",
    "X_val = scaler.transform(X_val)\n",
    "X_test = scaler.transform(X_test)\n",
    "\n",
    "# STEP 4: Train Logistic Regression\n",
    "log_reg = LogisticRegression(max_iter=1000, random_state=42)\n",
    "log_reg.fit(X_train, y_train)\n",
    "\n",
    "# STEP 5: Predict and evaluate\n",
    "y_val_pred = log_reg.predict(X_val)\n",
    "y_val_prob = log_reg.predict_proba(X_val)[:, 1]\n",
    "\n",
    "print(\"Validation Accuracy:\", accuracy_score(y_val, y_val_pred))\n",
    "print(\"\\nConfusion Matrix:\\n\", confusion_matrix(y_val, y_val_pred))\n",
    "print(\"\\nClassification Report:\\n\", classification_report(y_val, y_val_pred))\n",
    "print(\"ROC AUC Score:\", roc_auc_score(y_val, y_val_prob))\n",
    "\n",
    "# STEP 6: ROC Curve\n",
    "fpr, tpr, thresholds = roc_curve(y_val, y_val_prob)\n",
    "plt.figure(figsize=(6, 4))\n",
    "plt.plot(fpr, tpr, label=f'Logistic Regression (AUC = {roc_auc_score(y_val, y_val_prob):.2f})', color='blue')\n",
    "plt.plot([0, 1], [0, 1], 'k--')\n",
    "plt.xlabel(\"False Positive Rate\")\n",
    "plt.ylabel(\"True Positive Rate\")\n",
    "plt.title(\"ROC Curve\")\n",
    "plt.legend()\n",
    "plt.grid(True)\n",
    "plt.show()\n"
   ]
  },
  {
   "cell_type": "markdown",
   "id": "46204541-c96d-4713-8177-0ced8882c3d0",
   "metadata": {},
   "source": [
    "from the classification matrix: True Negatives (TN) = 6 → Correctly predicted Not Depressed\n",
    "\n",
    "False Positives (FP) = 22 → Predicted Depressed, but actually Not Depressed\n",
    "\n",
    "False Negatives (FN) = 3 → Predicted Not Depressed, but actually Depressed\n",
    "\n",
    "True Positives (TP) = 55 → Correctly predicted Depressed\n",
    "\n",
    "📊 What this shows:\n",
    "model is heavily biased toward predicting “Depressed.”\n",
    "\n",
    "It misclassifies 22 out of 28 Not Depressed cases as Depressed. That’s 78.6% false positives for that class.\n",
    "\n",
    "However, it performs well on the Depressed class — correctly predicting 55 out of 58 cases (only 3 false negatives).\n",
    "\n",
    "✅ Why this happens:\n",
    "data is imbalanced:\n",
    "\n",
    "Depressed        366\n",
    "Not Depressed    174\n",
    "That's about 68% Depressed, 32% Not Depressed.\n",
    "\n",
    "Logistic Regression by default tries to optimize overall accuracy, so it tends to favor the majority class (Depressed).\n",
    "\n"
   ]
  },
  {
   "cell_type": "code",
   "execution_count": null,
   "id": "caed123e-fd58-4362-901c-e88c34777a3c",
   "metadata": {},
   "outputs": [],
   "source": [
    "# STEP 4: Train Logistic Regression using class weighted balance\n",
    "log_reg = LogisticRegression(max_iter=1000, class_weight='balanced', random_state=42)\n",
    "log_reg.fit(X_train, y_train)\n",
    "\n",
    "# STEP 5: Predict and evaluate\n",
    "y_val_pred = log_reg.predict(X_val)\n",
    "y_val_prob = log_reg.predict_proba(X_val)[:, 1]\n",
    "\n",
    "print(\"Validation Accuracy:\", accuracy_score(y_val, y_val_pred))\n",
    "print(\"\\nConfusion Matrix:\\n\", confusion_matrix(y_val, y_val_pred))\n",
    "print(\"\\nClassification Report:\\n\", classification_report(y_val, y_val_pred))\n",
    "print(\"ROC AUC Score:\", roc_auc_score(y_val, y_val_prob))\n",
    "\n",
    "# STEP 6: ROC Curve\n",
    "fpr, tpr, thresholds = roc_curve(y_val, y_val_prob)\n",
    "plt.figure(figsize=(6, 4))\n",
    "plt.plot(fpr, tpr, label=f'Logistic Regression (AUC = {roc_auc_score(y_val, y_val_prob):.2f})', color='blue')\n",
    "plt.plot([0, 1], [0, 1], 'k--')\n",
    "plt.xlabel(\"False Positive Rate\")\n",
    "plt.ylabel(\"True Positive Rate\")\n",
    "plt.title(\"ROC Curve\")\n",
    "plt.legend()\n",
    "plt.grid(True)\n",
    "plt.show()\n"
   ]
  },
  {
   "cell_type": "markdown",
   "id": "741b5f3e-eee2-4548-9ff8-d81a03268337",
   "metadata": {},
   "source": [
    "model got better at detecting “Not Depressed” — now correctly classifies 18 instead of 6.\n",
    "\n",
    "It became slightly worse at detecting “Depressed”, dropping from 55 correct to 42.\n",
    "\n",
    "This is expected — you told the model to treat both classes equally, even though one appears less in the data."
   ]
  },
  {
   "cell_type": "markdown",
   "id": "df269923-b47b-49a9-ab35-38285c6a9cc7",
   "metadata": {},
   "source": [
    "🔍 Interpretation:\n",
    "Class 1 (Depressed): Very strong precision and recall — your model is quite good at identifying people who are depressed.\n",
    "\n",
    "Class 0 (Not Depressed): Slightly weaker, but this was expected given your class imbalance and previous underfitting.\n",
    "\n",
    "Overall: The model now performs balanced classification and gives fair consideration to both classes, thanks to the weighting."
   ]
  },
  {
   "cell_type": "code",
   "execution_count": 136,
   "id": "8e0e1dc5-ae26-45af-9414-f4cdbb495b81",
   "metadata": {},
   "outputs": [
    {
     "data": {
      "text/plain": [
       "['logistic_model.pkl']"
      ]
     },
     "execution_count": 136,
     "metadata": {},
     "output_type": "execute_result"
    }
   ],
   "source": [
    "import joblib\n",
    "\n",
    "# Save the trained logistic regression model\n",
    "joblib.dump(log_reg, 'logistic_model.pkl')\n"
   ]
  },
  {
   "cell_type": "code",
   "execution_count": 138,
   "id": "9b01fb44-c654-4d62-b9c1-efcf3c834355",
   "metadata": {},
   "outputs": [
    {
     "data": {
      "text/plain": [
       "['scaler.pkl']"
      ]
     },
     "execution_count": 138,
     "metadata": {},
     "output_type": "execute_result"
    }
   ],
   "source": [
    "joblib.dump(scaler, 'scaler.pkl')"
   ]
  },
  {
   "cell_type": "code",
   "execution_count": null,
   "id": "3d3783a5-e1c6-4c16-88e6-83ed16c2f4d6",
   "metadata": {},
   "outputs": [],
   "source": []
  },
  {
   "cell_type": "code",
   "execution_count": null,
   "id": "1b13abc9-460f-45de-8e00-537cae24d7f6",
   "metadata": {},
   "outputs": [],
   "source": []
  },
  {
   "cell_type": "code",
   "execution_count": null,
   "id": "29905f7f-a89d-480e-ad05-97d60354f62a",
   "metadata": {},
   "outputs": [],
   "source": []
  },
  {
   "cell_type": "code",
   "execution_count": null,
   "id": "99fa8e13-5bc9-45a2-864d-19b16ea87f83",
   "metadata": {},
   "outputs": [],
   "source": []
  },
  {
   "cell_type": "code",
   "execution_count": null,
   "id": "70679c72-bc09-43d4-8214-832cef629ada",
   "metadata": {},
   "outputs": [],
   "source": []
  }
 ],
 "metadata": {
  "kernelspec": {
   "display_name": "Python [conda env:base] *",
   "language": "python",
   "name": "conda-base-py"
  },
  "language_info": {
   "codemirror_mode": {
    "name": "ipython",
    "version": 3
   },
   "file_extension": ".py",
   "mimetype": "text/x-python",
   "name": "python",
   "nbconvert_exporter": "python",
   "pygments_lexer": "ipython3",
   "version": "3.12.7"
  }
 },
 "nbformat": 4,
 "nbformat_minor": 5
}
